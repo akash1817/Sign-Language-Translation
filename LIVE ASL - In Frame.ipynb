{
 "cells": [
  {
   "cell_type": "code",
   "execution_count": 1,
   "metadata": {},
   "outputs": [
    {
     "name": "stderr",
     "output_type": "stream",
     "text": [
      "C:\\ProgramData\\Anaconda3\\lib\\site-packages\\tensorflow\\python\\framework\\dtypes.py:516: FutureWarning: Passing (type, 1) or '1type' as a synonym of type is deprecated; in a future version of numpy, it will be understood as (type, (1,)) / '(1,)type'.\n",
      "  _np_qint8 = np.dtype([(\"qint8\", np.int8, 1)])\n",
      "C:\\ProgramData\\Anaconda3\\lib\\site-packages\\tensorflow\\python\\framework\\dtypes.py:517: FutureWarning: Passing (type, 1) or '1type' as a synonym of type is deprecated; in a future version of numpy, it will be understood as (type, (1,)) / '(1,)type'.\n",
      "  _np_quint8 = np.dtype([(\"quint8\", np.uint8, 1)])\n",
      "C:\\ProgramData\\Anaconda3\\lib\\site-packages\\tensorflow\\python\\framework\\dtypes.py:518: FutureWarning: Passing (type, 1) or '1type' as a synonym of type is deprecated; in a future version of numpy, it will be understood as (type, (1,)) / '(1,)type'.\n",
      "  _np_qint16 = np.dtype([(\"qint16\", np.int16, 1)])\n",
      "C:\\ProgramData\\Anaconda3\\lib\\site-packages\\tensorflow\\python\\framework\\dtypes.py:519: FutureWarning: Passing (type, 1) or '1type' as a synonym of type is deprecated; in a future version of numpy, it will be understood as (type, (1,)) / '(1,)type'.\n",
      "  _np_quint16 = np.dtype([(\"quint16\", np.uint16, 1)])\n",
      "C:\\ProgramData\\Anaconda3\\lib\\site-packages\\tensorflow\\python\\framework\\dtypes.py:520: FutureWarning: Passing (type, 1) or '1type' as a synonym of type is deprecated; in a future version of numpy, it will be understood as (type, (1,)) / '(1,)type'.\n",
      "  _np_qint32 = np.dtype([(\"qint32\", np.int32, 1)])\n",
      "C:\\ProgramData\\Anaconda3\\lib\\site-packages\\tensorflow\\python\\framework\\dtypes.py:525: FutureWarning: Passing (type, 1) or '1type' as a synonym of type is deprecated; in a future version of numpy, it will be understood as (type, (1,)) / '(1,)type'.\n",
      "  np_resource = np.dtype([(\"resource\", np.ubyte, 1)])\n",
      "C:\\ProgramData\\Anaconda3\\lib\\site-packages\\tensorboard\\compat\\tensorflow_stub\\dtypes.py:541: FutureWarning: Passing (type, 1) or '1type' as a synonym of type is deprecated; in a future version of numpy, it will be understood as (type, (1,)) / '(1,)type'.\n",
      "  _np_qint8 = np.dtype([(\"qint8\", np.int8, 1)])\n",
      "C:\\ProgramData\\Anaconda3\\lib\\site-packages\\tensorboard\\compat\\tensorflow_stub\\dtypes.py:542: FutureWarning: Passing (type, 1) or '1type' as a synonym of type is deprecated; in a future version of numpy, it will be understood as (type, (1,)) / '(1,)type'.\n",
      "  _np_quint8 = np.dtype([(\"quint8\", np.uint8, 1)])\n",
      "C:\\ProgramData\\Anaconda3\\lib\\site-packages\\tensorboard\\compat\\tensorflow_stub\\dtypes.py:543: FutureWarning: Passing (type, 1) or '1type' as a synonym of type is deprecated; in a future version of numpy, it will be understood as (type, (1,)) / '(1,)type'.\n",
      "  _np_qint16 = np.dtype([(\"qint16\", np.int16, 1)])\n",
      "C:\\ProgramData\\Anaconda3\\lib\\site-packages\\tensorboard\\compat\\tensorflow_stub\\dtypes.py:544: FutureWarning: Passing (type, 1) or '1type' as a synonym of type is deprecated; in a future version of numpy, it will be understood as (type, (1,)) / '(1,)type'.\n",
      "  _np_quint16 = np.dtype([(\"quint16\", np.uint16, 1)])\n",
      "C:\\ProgramData\\Anaconda3\\lib\\site-packages\\tensorboard\\compat\\tensorflow_stub\\dtypes.py:545: FutureWarning: Passing (type, 1) or '1type' as a synonym of type is deprecated; in a future version of numpy, it will be understood as (type, (1,)) / '(1,)type'.\n",
      "  _np_qint32 = np.dtype([(\"qint32\", np.int32, 1)])\n",
      "C:\\ProgramData\\Anaconda3\\lib\\site-packages\\tensorboard\\compat\\tensorflow_stub\\dtypes.py:550: FutureWarning: Passing (type, 1) or '1type' as a synonym of type is deprecated; in a future version of numpy, it will be understood as (type, (1,)) / '(1,)type'.\n",
      "  np_resource = np.dtype([(\"resource\", np.ubyte, 1)])\n"
     ]
    }
   ],
   "source": [
    "import numpy as np\n",
    "import matplotlib.pyplot as plt\n",
    "import os\n",
    "import cv2\n",
    "from tqdm import tqdm\n",
    "\n",
    "import pyttsx3\n",
    "\n",
    "import tensorflow as tf\n",
    "from tensorflow.keras.models import Sequential\n",
    "from tensorflow.keras.layers import Dense, Dropout, Activation, Flatten\n",
    "from tensorflow.keras.layers import Conv2D, MaxPooling2D"
   ]
  },
  {
   "cell_type": "code",
   "execution_count": 2,
   "metadata": {},
   "outputs": [],
   "source": [
    "DATADIR = \"C:/Users/VISHWA/Desktop/Projects/Live Alpha Classification - Sem 7/LIVEAlpha\"\n",
    "\n",
    "CATEGORIES = [\"A\",\"B\",\"C\",\"D\",\"E\",\"G\",\"H\",\"I\",\"L\",\"O\",\"V\"]"
   ]
  },
  {
   "cell_type": "code",
   "execution_count": 3,
   "metadata": {},
   "outputs": [
    {
     "name": "stderr",
     "output_type": "stream",
     "text": [
      "Using TensorFlow backend.\n"
     ]
    }
   ],
   "source": [
    "from keras.preprocessing.image import load_img\n",
    "from keras.preprocessing.image import img_to_array\n",
    "from keras.utils import np_utils"
   ]
  },
  {
   "cell_type": "code",
   "execution_count": 4,
   "metadata": {},
   "outputs": [
    {
     "name": "stderr",
     "output_type": "stream",
     "text": [
      "100%|█████████████████████████████████████████████████████████████████████████████████| 50/50 [00:00<00:00, 337.59it/s]\n",
      "100%|█████████████████████████████████████████████████████████████████████████████████| 50/50 [00:00<00:00, 677.11it/s]\n",
      "100%|█████████████████████████████████████████████████████████████████████████████████| 50/50 [00:00<00:00, 537.80it/s]\n",
      "100%|█████████████████████████████████████████████████████████████████████████████████| 50/50 [00:00<00:00, 600.06it/s]\n",
      "100%|█████████████████████████████████████████████████████████████████████████████████| 50/50 [00:00<00:00, 495.32it/s]\n",
      "100%|█████████████████████████████████████████████████████████████████████████████████| 49/49 [00:00<00:00, 376.50it/s]\n",
      "100%|█████████████████████████████████████████████████████████████████████████████████| 51/51 [00:00<00:00, 441.46it/s]\n",
      "100%|█████████████████████████████████████████████████████████████████████████████████| 50/50 [00:00<00:00, 686.74it/s]\n",
      "100%|█████████████████████████████████████████████████████████████████████████████████| 50/50 [00:00<00:00, 516.00it/s]\n",
      "100%|█████████████████████████████████████████████████████████████████████████████████| 50/50 [00:00<00:00, 608.63it/s]\n",
      "100%|█████████████████████████████████████████████████████████████████████████████████| 50/50 [00:00<00:00, 466.47it/s]\n"
     ]
    }
   ],
   "source": [
    "training_data = []\n",
    "def train_data():\n",
    "    for category in CATEGORIES:\n",
    "\n",
    "        path = os.path.join(DATADIR,category) \n",
    "        class_num = CATEGORIES.index(category) \n",
    "\n",
    "        for img in tqdm(os.listdir(path)): \n",
    "            image = load_img(os.path.join(path, img), target_size=(64, 64))\n",
    "            image = img_to_array(image)\n",
    "            training_data.append([image, class_num])  \n",
    "train_data()"
   ]
  },
  {
   "cell_type": "code",
   "execution_count": 5,
   "metadata": {},
   "outputs": [],
   "source": [
    "import random\n",
    "random.shuffle(training_data)"
   ]
  },
  {
   "cell_type": "code",
   "execution_count": 6,
   "metadata": {},
   "outputs": [],
   "source": [
    "X = []\n",
    "y = []\n",
    "for feature, label in training_data:\n",
    "    X.append(feature)\n",
    "    y.append(label)"
   ]
  },
  {
   "cell_type": "code",
   "execution_count": 7,
   "metadata": {},
   "outputs": [],
   "source": [
    "y = np_utils.to_categorical(y)"
   ]
  },
  {
   "cell_type": "code",
   "execution_count": 8,
   "metadata": {},
   "outputs": [],
   "source": [
    "X = [i/255.0 for i in X]"
   ]
  },
  {
   "cell_type": "code",
   "execution_count": 9,
   "metadata": {},
   "outputs": [],
   "source": [
    "X = np.array(X).reshape(-1, 64, 64, 3)"
   ]
  },
  {
   "cell_type": "code",
   "execution_count": 10,
   "metadata": {},
   "outputs": [
    {
     "data": {
      "text/plain": [
       "550"
      ]
     },
     "execution_count": 10,
     "metadata": {},
     "output_type": "execute_result"
    }
   ],
   "source": [
    "len(X)"
   ]
  },
  {
   "cell_type": "code",
   "execution_count": 11,
   "metadata": {},
   "outputs": [
    {
     "data": {
      "text/plain": [
       "(550, 64, 64, 3)"
      ]
     },
     "execution_count": 11,
     "metadata": {},
     "output_type": "execute_result"
    }
   ],
   "source": [
    "X.shape"
   ]
  },
  {
   "cell_type": "code",
   "execution_count": 12,
   "metadata": {},
   "outputs": [
    {
     "name": "stdout",
     "output_type": "stream",
     "text": [
      "WARNING:tensorflow:From C:\\ProgramData\\Anaconda3\\lib\\site-packages\\tensorflow\\python\\ops\\init_ops.py:1251: calling VarianceScaling.__init__ (from tensorflow.python.ops.init_ops) with dtype is deprecated and will be removed in a future version.\n",
      "Instructions for updating:\n",
      "Call initializer instance with the dtype argument instead of passing it to the constructor\n"
     ]
    }
   ],
   "source": [
    "model = Sequential()\n",
    "\n",
    "model.add(Conv2D(filters=5, kernel_size=5, padding='same', activation='relu', \n",
    "                        input_shape=(64, 64, 3)))\n",
    "\n",
    "model.add(MaxPooling2D(pool_size=(4, 4)))\n",
    "\n",
    "model.add(Conv2D(filters=15, kernel_size=5, padding='same', activation='relu'))\n",
    "\n",
    "model.add(MaxPooling2D(pool_size=(4, 4)))\n",
    "\n",
    "model.add(Flatten())\n",
    "model.add(Dense(11, activation='softmax'))"
   ]
  },
  {
   "cell_type": "code",
   "execution_count": 13,
   "metadata": {},
   "outputs": [],
   "source": [
    "model.compile(optimizer='adam', \n",
    "              loss='categorical_crossentropy', \n",
    "              metrics=['accuracy'])"
   ]
  },
  {
   "cell_type": "code",
   "execution_count": 14,
   "metadata": {},
   "outputs": [
    {
     "name": "stdout",
     "output_type": "stream",
     "text": [
      "Train on 495 samples, validate on 55 samples\n",
      "Epoch 1/10\n",
      "495/495 - 5s - loss: 2.3183 - acc: 0.2202 - val_loss: 2.1933 - val_acc: 0.2182\n",
      "Epoch 2/10\n",
      "495/495 - 1s - loss: 1.7168 - acc: 0.4667 - val_loss: 1.4464 - val_acc: 0.5455\n",
      "Epoch 3/10\n",
      "495/495 - 1s - loss: 0.9257 - acc: 0.7515 - val_loss: 1.1233 - val_acc: 0.6000\n",
      "Epoch 4/10\n",
      "495/495 - 1s - loss: 0.5293 - acc: 0.8667 - val_loss: 0.5609 - val_acc: 0.7636\n",
      "Epoch 5/10\n",
      "495/495 - 1s - loss: 0.3250 - acc: 0.9152 - val_loss: 0.3730 - val_acc: 0.8727\n",
      "Epoch 6/10\n",
      "495/495 - 1s - loss: 0.2221 - acc: 0.9475 - val_loss: 0.2521 - val_acc: 0.8909\n",
      "Epoch 7/10\n",
      "495/495 - 1s - loss: 0.1477 - acc: 0.9697 - val_loss: 0.2237 - val_acc: 0.9273\n",
      "Epoch 8/10\n",
      "495/495 - 1s - loss: 0.1162 - acc: 0.9737 - val_loss: 0.1722 - val_acc: 0.9636\n",
      "Epoch 9/10\n",
      "495/495 - 1s - loss: 0.0806 - acc: 0.9859 - val_loss: 0.1627 - val_acc: 0.9455\n",
      "Epoch 10/10\n",
      "495/495 - 1s - loss: 0.0608 - acc: 0.9939 - val_loss: 0.2384 - val_acc: 0.9455\n"
     ]
    }
   ],
   "source": [
    "hist = model.fit(X, y, epochs=10, batch_size=5, validation_split=0.1, verbose=2)"
   ]
  },
  {
   "cell_type": "code",
   "execution_count": 15,
   "metadata": {},
   "outputs": [
    {
     "name": "stdout",
     "output_type": "stream",
     "text": [
      "Model: \"sequential\"\n",
      "_________________________________________________________________\n",
      "Layer (type)                 Output Shape              Param #   \n",
      "=================================================================\n",
      "conv2d (Conv2D)              (None, 64, 64, 5)         380       \n",
      "_________________________________________________________________\n",
      "max_pooling2d (MaxPooling2D) (None, 16, 16, 5)         0         \n",
      "_________________________________________________________________\n",
      "conv2d_1 (Conv2D)            (None, 16, 16, 15)        1890      \n",
      "_________________________________________________________________\n",
      "max_pooling2d_1 (MaxPooling2 (None, 4, 4, 15)          0         \n",
      "_________________________________________________________________\n",
      "flatten (Flatten)            (None, 240)               0         \n",
      "_________________________________________________________________\n",
      "dense (Dense)                (None, 11)                2651      \n",
      "=================================================================\n",
      "Total params: 4,921\n",
      "Trainable params: 4,921\n",
      "Non-trainable params: 0\n",
      "_________________________________________________________________\n"
     ]
    }
   ],
   "source": [
    "model.summary()"
   ]
  },
  {
   "cell_type": "code",
   "execution_count": 16,
   "metadata": {},
   "outputs": [
    {
     "data": {
      "image/png": "[encoded data removed]",
      "text/plain": [
       "<Figure size 432x288 with 1 Axes>"
      ]
     },
     "metadata": {
      "needs_background": "light"
     },
     "output_type": "display_data"
    }
   ],
   "source": [
    "import matplotlib.pyplot as plt\n",
    "loss = hist.history['loss']\n",
    "val_loss = hist.history['val_loss']\n",
    "epochs = range(1, len(loss) + 1)\n",
    "plt.plot(epochs, loss, color='orange', label='Training loss')\n",
    "plt.plot(epochs, val_loss, color='blue', label='Validation loss')\n",
    "plt.title('Training and Validation loss')\n",
    "plt.xlabel('Epochs')\n",
    "plt.ylabel('Loss')\n",
    "plt.legend()\n",
    "plt.show()"
   ]
  },
  {
   "cell_type": "code",
   "execution_count": 17,
   "metadata": {},
   "outputs": [
    {
     "data": {
      "image/png": "[encoded data removed]",
      "text/plain": [
       "<Figure size 432x288 with 1 Axes>"
      ]
     },
     "metadata": {
      "needs_background": "light"
     },
     "output_type": "display_data"
    }
   ],
   "source": [
    "acc = hist.history['acc']\n",
    "val_acc = hist.history['val_acc']\n",
    "plt.plot(epochs, acc, color='orange', label='Training acc')\n",
    "plt.plot(epochs, val_acc, color='blue', label='Validation acc')\n",
    "plt.title('Training and Validation accuracy')\n",
    "plt.xlabel('Epochs')\n",
    "plt.ylabel('Loss')\n",
    "plt.legend()\n",
    "plt.show()"
   ]
  },
  {
   "cell_type": "code",
   "execution_count": 18,
   "metadata": {},
   "outputs": [],
   "source": [
    "dictt = {\n",
    "    0:\"A\",\n",
    "    1:\"B\",\n",
    "    2:\"C\",\n",
    "    3:\"D\",\n",
    "    4:\"E\",\n",
    "    5:\"G\",\n",
    "    6:\"H\",\n",
    "    7:\"I\",\n",
    "    8:\"L\",\n",
    "    9:\"O\",\n",
    "    10:\"V\",\n",
    "}"
   ]
  },
  {
   "cell_type": "code",
   "execution_count": 19,
   "metadata": {},
   "outputs": [],
   "source": [
    "from IPython.display import Audio\n",
    "audio = {    \n",
    "    0:'alpha/A.m4a',\n",
    "    1:'alpha/B.m4a',\n",
    "    2:'alpha/C.m4a',\n",
    "    3:'alpha/D.m4a',\n",
    "    4:'alpha/E.m4a',\n",
    "    5:'alpha/G.m4a',\n",
    "    6:'alpha/H.m4a',\n",
    "    7:'alpha/I.m4a',\n",
    "    8:'alpha/L.m4a',\n",
    "    9:'alpha/O.m4a',\n",
    "    10:'alpha/V.m4a',\n",
    "}"
   ]
  },
  {
   "cell_type": "code",
   "execution_count": 24,
   "metadata": {},
   "outputs": [],
   "source": [
    "# While Loop....Not optimized - Live Hand Sign Detection\n",
    "\n",
    "cap = cv2.VideoCapture(0)\n",
    "p = 0\n",
    "counter = 0\n",
    "while True:\n",
    "    _, frame = cap.read()\n",
    "    hsv = cv2.cvtColor(frame, cv2.COLOR_BGR2HSV)\n",
    "\n",
    "    l_h = 0\n",
    "    l_s = 0\n",
    "    l_v = 132\n",
    "    u_h = 179\n",
    "    u_s = 30\n",
    "    u_v = 255\n",
    "\n",
    "    lower_blue = np.array([l_h, l_s, l_v])\n",
    "    upper_blue = np.array([u_h, u_s, u_v])\n",
    "    mask = cv2.inRange(hsv, lower_blue, upper_blue)\n",
    "\n",
    "    result = cv2.bitwise_and(frame, frame, mask=mask)\n",
    "    \n",
    "    start = (0,100)\n",
    "    end = (200, 300)\n",
    "    color = (255,255,255)\n",
    "    thickness = 2\n",
    "    \n",
    "    rect = cv2.rectangle(mask, start, end, color, thickness)\n",
    "    \n",
    "    ROI = rect[100:300, 0:200]\n",
    "    \n",
    "    font = cv2.FONT_HERSHEY_SIMPLEX \n",
    "   \n",
    "    cv2.putText(ROI,  \n",
    "                dictt[p],  \n",
    "                (25, 50),  \n",
    "                font, 1,  \n",
    "                (0,255,0),  \n",
    "                2,  \n",
    "                cv2.LINE_4)\n",
    "    \n",
    "    cv2.imshow(\"mask\", rect)\n",
    "    cv2.imshow(\"ROI\", ROI)\n",
    "    \n",
    "    key = cv2.waitKey(1)\n",
    "    if key == 27:\n",
    "        break\n",
    "    \n",
    "    cv2.imwrite(\"Frame%d.jpg\" % counter, ROI)\n",
    "        \n",
    "    image2 = load_img(\"Frame%d.jpg\" % counter, target_size=(64, 64))\n",
    "\n",
    "    image2 = img_to_array(image2)\n",
    "    \n",
    "    os.remove(\"Frame%d.jpg\" % counter)\n",
    "    \n",
    "    image2 = image2.reshape((1, image2.shape[0], image2.shape[1], image2.shape[2]))\n",
    "        \n",
    "    result = model.predict([image2])\n",
    "        \n",
    "    d = result.reshape(11)\n",
    "    f = list(d)\n",
    "    try:\n",
    "        p=f.index(1.)\n",
    "    except:\n",
    "        pass\n",
    "        \n",
    "    cv2.putText(ROI,  \n",
    "                dictt[p],  \n",
    "                (25, 50),  \n",
    "                font, 1,  \n",
    "                (0,255,0),  \n",
    "                2,  \n",
    "                cv2.LINE_4)\n",
    "        \n",
    "    counter = counter+1\n",
    "\n",
    "\n",
    "cap.release()\n",
    "cv2.destroyAllWindows()"
   ]
  },
  {
   "cell_type": "code",
   "execution_count": 22,
   "metadata": {},
   "outputs": [],
   "source": [
    "# Simple Live Hand Sign Detection\n",
    "cap = cv2.VideoCapture(0)\n",
    "p = 0\n",
    "\n",
    "                   \n",
    "counter = 0\n",
    "while True:\n",
    "    _, frame = cap.read()\n",
    "    hsv = cv2.cvtColor(frame, cv2.COLOR_BGR2HSV)\n",
    "\n",
    "    l_h = 0\n",
    "    l_s = 0\n",
    "    l_v = 132\n",
    "    u_h = 179\n",
    "    u_s = 30\n",
    "    u_v = 255\n",
    "\n",
    "    lower_blue = np.array([l_h, l_s, l_v])\n",
    "    upper_blue = np.array([u_h, u_s, u_v])\n",
    "    mask = cv2.inRange(hsv, lower_blue, upper_blue)\n",
    "\n",
    "    result = cv2.bitwise_and(frame, frame, mask=mask)\n",
    "    \n",
    "    start = (0,100)\n",
    "    end = (200, 300)\n",
    "    color = (255,255,255)\n",
    "    thickness = 2\n",
    "    \n",
    "    rect = cv2.rectangle(mask, start, end, color, thickness)\n",
    "    \n",
    "    ROI = rect[100:300, 0:200]\n",
    "    \n",
    "    font = cv2.FONT_HERSHEY_SIMPLEX \n",
    "   \n",
    "    cv2.putText(ROI,  \n",
    "                dictt[p],  \n",
    "                (25, 50),  \n",
    "                font, 1,  \n",
    "                (0,255,0),  \n",
    "                2,  \n",
    "                cv2.LINE_4)\n",
    "    \n",
    "    cv2.imshow(\"mask\", rect)\n",
    "    cv2.imshow(\"ROI\", ROI)\n",
    "    \n",
    "    key = cv2.waitKey(1)\n",
    "    if key == 27:\n",
    "        break\n",
    "    elif key%256 == 32:\n",
    "        cv2.imwrite(\"Frame%d.jpg\" % counter, ROI)\n",
    "        \n",
    "        print(\"Loading Image - Keras\")\n",
    "        image2 = load_img(\"Frame%d.jpg\" % counter, target_size=(64, 64))\n",
    "\n",
    "        print(\"Converting Image to array\")\n",
    "        image2 = img_to_array(image2)\n",
    "        \n",
    "        print(\"Reshaping Image array to 64 x 64 x 3\")\n",
    "        image2 = image2.reshape((1, image2.shape[0], image2.shape[1], image2.shape[2]))\n",
    "        \n",
    "        print(\"Predicting...\")\n",
    "        result = model.predict([image2])\n",
    "        \n",
    "        d = result.reshape(11)\n",
    "        f = list(d)\n",
    "        try:\n",
    "            p=f.index(1.)\n",
    "        except:\n",
    "            pass\n",
    "\n",
    "        print(dictt[p])\n",
    "        \n",
    "        cv2.putText(ROI,  \n",
    "                dictt[p],  \n",
    "                (25, 50),  \n",
    "                font, 1,  \n",
    "                (0,255,0),  \n",
    "                2,  \n",
    "                cv2.LINE_4)\n",
    "        \n",
    "        counter = counter+1\n",
    "\n",
    "\n",
    "cap.release()\n",
    "cv2.destroyAllWindows()\n",
    "\n"
   ]
  },
  {
   "cell_type": "code",
   "execution_count": 24,
   "metadata": {},
   "outputs": [],
   "source": [
    "dictt2 = {\n",
    "    0:\"How are you?\",\n",
    "    1:\"It was nice chatting with you.\",\n",
    "    2:\"Is everything OK ?\",\n",
    "    3:\"Where are you going ?\",\n",
    "    4:\"Help!\",\n",
    "    5:\"I've no idea\",\n",
    "    6:\"I am going home.\",\n",
    "    7:\"Whats your phone number?\",\n",
    "    8:\"Are you free?\",\n",
    "    9:\"Oh no!\",\n",
    "    10:\"I'm fine. Thanks.\",\n",
    "}"
   ]
  },
  {
   "cell_type": "code",
   "execution_count": 28,
   "metadata": {},
   "outputs": [
    {
     "name": "stdout",
     "output_type": "stream",
     "text": [
      "Loading Image - Keras\n",
      "Converting Image to array\n",
      "Reshaping Image array to 64 x 64 x 3\n",
      "Predicting...\n",
      "V\n",
      "Loading Image - Keras\n",
      "Converting Image to array\n",
      "Reshaping Image array to 64 x 64 x 3\n",
      "Predicting...\n",
      "C\n"
     ]
    }
   ],
   "source": [
    "'''Final With Custom Voice Messages'''\n",
    "\n",
    "cap = cv2.VideoCapture(0)\n",
    "p = 0\n",
    "\n",
    "                   \n",
    "counter = 0\n",
    "while True:\n",
    "    _, frame = cap.read()\n",
    "    hsv = cv2.cvtColor(frame, cv2.COLOR_BGR2HSV)\n",
    "\n",
    "    l_h = 0\n",
    "    l_s = 0\n",
    "    l_v = 132\n",
    "    u_h = 179\n",
    "    u_s = 30\n",
    "    u_v = 255\n",
    "\n",
    "    lower_blue = np.array([l_h, l_s, l_v])\n",
    "    upper_blue = np.array([u_h, u_s, u_v])\n",
    "    mask = cv2.inRange(hsv, lower_blue, upper_blue)\n",
    "\n",
    "    result = cv2.bitwise_and(frame, frame, mask=mask)\n",
    "    \n",
    "    start = (0,100)\n",
    "    end = (200, 300)\n",
    "    color = (255,255,255)\n",
    "    thickness = 2\n",
    "    \n",
    "    rect = cv2.rectangle(mask, start, end, color, thickness)\n",
    "    \n",
    "    ROI = rect[100:300, 0:200]\n",
    "    \n",
    "    font = cv2.FONT_HERSHEY_SIMPLEX \n",
    "   \n",
    "    cv2.putText(ROI,  \n",
    "                dictt[p],  \n",
    "                (25, 50),  \n",
    "                font, 1,  \n",
    "                (0,255,0),  \n",
    "                2,  \n",
    "                cv2.LINE_4)\n",
    "    \n",
    "    cv2.imshow(\"mask\", rect)\n",
    "    cv2.imshow(\"ROI\", ROI)\n",
    "    \n",
    "    key = cv2.waitKey(1)\n",
    "    if key == 27:\n",
    "        break\n",
    "    elif key%256 == 32:\n",
    "        cv2.imwrite(\"Frame%d.jpg\" % counter, ROI)\n",
    "        \n",
    "        print(\"Loading Image - Keras\")\n",
    "        image2 = load_img(\"Frame%d.jpg\" % counter, target_size=(64, 64))\n",
    "\n",
    "        print(\"Converting Image to array\")\n",
    "        image2 = img_to_array(image2)\n",
    "        \n",
    "        print(\"Reshaping Image array to 64 x 64 x 3\")\n",
    "        image2 = image2.reshape((1, image2.shape[0], image2.shape[1], image2.shape[2]))\n",
    "        \n",
    "        print(\"Predicting...\")\n",
    "        result = model.predict([image2])\n",
    "        \n",
    "        d = result.reshape(11)\n",
    "        f = list(d)\n",
    "        try:\n",
    "            p=f.index(1.)\n",
    "        except:\n",
    "            pass\n",
    "\n",
    "        print(dictt[p])\n",
    "        \n",
    "        cv2.putText(ROI,  \n",
    "                dictt[p],  \n",
    "                (25, 50),  \n",
    "                font, 1,  \n",
    "                (0,255,0),  \n",
    "                2,  \n",
    "                cv2.LINE_4)\n",
    "        im = cv2.imread(\"white.jpg\")\n",
    "        cv2.putText(im, dictt2[p], (25,50), font,  \n",
    "                   1, (0,255,0), 2, cv2.LINE_AA)\n",
    "        cv2.imshow(\"Message\", im);\n",
    "        \n",
    "        engine = pyttsx3.init()\n",
    "        voices = engine.getProperty('voices')\n",
    "        engine.setProperty('voice', voices[1].id)\n",
    "        engine.setProperty('rate', 150)\n",
    "        engine.say(dictt2[p])\n",
    "        engine.runAndWait()\n",
    "        \n",
    "        counter = counter+1\n",
    "\n",
    "\n",
    "cap.release()\n",
    "cv2.destroyAllWindows()\n",
    "\n"
   ]
  },
  {
   "cell_type": "code",
   "execution_count": 12,
   "metadata": {},
   "outputs": [],
   "source": [
    "\n"
   ]
  },
  {
   "cell_type": "code",
   "execution_count": null,
   "metadata": {},
   "outputs": [],
   "source": []
  }
 ],
 "metadata": {
  "kernelspec": {
   "display_name": "Python 3",
   "language": "python",
   "name": "python3"
  },
  "language_info": {
   "codemirror_mode": {
    "name": "ipython",
    "version": 3
   },
   "file_extension": ".py",
   "mimetype": "text/x-python",
   "name": "python",
   "nbconvert_exporter": "python",
   "pygments_lexer": "ipython3",
   "version": "3.7.3"
  }
 },
 "nbformat": 4,
 "nbformat_minor": 2
}
